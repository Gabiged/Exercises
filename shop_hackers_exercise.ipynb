{
 "cells": [
  {
   "cell_type": "markdown",
   "id": "ae5cdfea",
   "metadata": {},
   "source": [
    "You are the manager of a supermarket.\n",
    "You have a list of  items together with their prices that consumers bought on a particular day.\n",
    "Your task is to print each item_name and net_price in order of its first occurrence."
   ]
  },
  {
   "cell_type": "code",
   "execution_count": null,
   "id": "1ff0b80a",
   "metadata": {},
   "outputs": [],
   "source": [
    "from collections import OrderedDict\n",
    "!pip install OrderedDict"
   ]
  },
  {
   "cell_type": "code",
   "execution_count": null,
   "id": "f4af1cce",
   "metadata": {},
   "outputs": [],
   "source": [
    "\"\"\"n is the quantity of items in the dictionary\"\"\"\n",
    "n = int(input())\n",
    "produce_list = OrderedDict()\n",
    "if n>0 and n<= 100:\n",
    "    for item in range(n):\n",
    "        insert_item = input().split()\n",
    "        net_price = int(insert_item[-1])\n",
    "        item_name = ' '.join(insert_item[:-1])\n",
    "        if (item_name in produce_list):\n",
    "            produce_list[item_name] += net_price\n",
    "        else:\n",
    "            produce_list[item_name] = net_price\n",
    "    for item_name, net_price in produce_list.items():\n",
    "        print(item_name, net_price)\n",
    "else:\n",
    "    print('your sales quantity is out of range')"
   ]
  }
 ],
 "metadata": {
  "kernelspec": {
   "display_name": "Python 3 (ipykernel)",
   "language": "python",
   "name": "python3"
  },
  "language_info": {
   "codemirror_mode": {
    "name": "ipython",
    "version": 3
   },
   "file_extension": ".py",
   "mimetype": "text/x-python",
   "name": "python",
   "nbconvert_exporter": "python",
   "pygments_lexer": "ipython3",
   "version": "3.9.13"
  }
 },
 "nbformat": 4,
 "nbformat_minor": 5
}
