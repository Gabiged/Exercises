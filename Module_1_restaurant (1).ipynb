{
 "cells": [
  {
   "cell_type": "markdown",
   "id": "e7be9830",
   "metadata": {},
   "source": [
    "In this exercise, I want you to create a new constant dict, called MENU, representing the possible items you can order at a restaurant. The keys will be strings, and the values will be prices (i.e., integers). You should then write a function, restaurant, that asks the user to enter an order:\n",
    "\n",
    "If the user enters the name of a dish on the menu, the program prints the price and the running total. It then asks the user again for their order.\n",
    "If the user enters the name of a dish not on the menu, the program scolds the user (mildly). It then asks the user again for their order.\n",
    "If the user enters an empty string, the program stops prompting and prints the total amount."
   ]
  },
  {
   "cell_type": "code",
   "execution_count": 107,
   "id": "eff0f16c",
   "metadata": {},
   "outputs": [],
   "source": [
    "MENU = {\n",
    "    \"sandwich\": 10,\n",
    "    \"tea\": 7,\n",
    "    \"pankakes\": 12,\n",
    "    \"coffee\": 6,\n",
    "    \"cake\": 10,\n",
    "    \"fish\": 15,\n",
    "    \"potato chips\": 11,\n",
    "    \"lentil soup\": 12,\n",
    "}\n"
   ]
  },
  {
   "cell_type": "code",
   "execution_count": 150,
   "id": "06486377",
   "metadata": {},
   "outputs": [],
   "source": [
    "def restaurant():\n",
    "    total_value = 0\n",
    "    while True:\n",
    "        order = input().strip()\n",
    "        if len(order) == 0:\n",
    "            break\n",
    "        if order in MENU.keys():\n",
    "            item_price = MENU[order]\n",
    "            total_value += item_price\n",
    "            print(f'{order} is {item_price}, total is {total_value}')\n",
    "        else:\n",
    "            print(\"we don't have it\")\n",
    "    print(f'Your total is {total_value}')\n",
    "    \n",
    "restaurant()"
   ]
  }
 ],
 "metadata": {
  "kernelspec": {
   "display_name": "Python 3 (ipykernel)",
   "language": "python",
   "name": "python3"
  },
  "language_info": {
   "codemirror_mode": {
    "name": "ipython",
    "version": 3
   },
   "file_extension": ".py",
   "mimetype": "text/x-python",
   "name": "python",
   "nbconvert_exporter": "python",
   "pygments_lexer": "ipython3",
   "version": "3.9.13"
  }
 },
 "nbformat": 4,
 "nbformat_minor": 5
}
